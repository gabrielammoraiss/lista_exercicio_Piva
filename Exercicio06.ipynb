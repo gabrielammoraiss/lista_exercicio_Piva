{
 "cells": [
  {
   "cell_type": "markdown",
   "id": "a9005bcb-d9e0-47ee-8e48-94fc4fd7119d",
   "metadata": {},
   "source": [
    "Faça um Programa que leia três números e mostre-os em ordem decrescente."
   ]
  },
  {
   "cell_type": "code",
   "execution_count": 18,
   "id": "db7fad41-6e38-4e6c-84ab-398504b527a0",
   "metadata": {},
   "outputs": [
    {
     "name": "stdin",
     "output_type": "stream",
     "text": [
      "Digite o 1º número :  8\n",
      "Digite o 2º número :  60\n",
      "Digite o 3º número :  50\n"
     ]
    },
    {
     "name": "stdout",
     "output_type": "stream",
     "text": [
      "[60, 50, 8]\n"
     ]
    }
   ],
   "source": [
    "lista = []\n",
    "for i in range(3):\n",
    "    n = int(input(f\"Digite o {i+1}º número : \"))  \n",
    "    lista.append(n)\n",
    "\n",
    "lista.sort(reverse=True)  \n",
    "print(lista)\n",
    "\n",
    "         "
   ]
  },
  {
   "cell_type": "code",
   "execution_count": null,
   "id": "3410b696-096a-44c1-bced-3807b647ce02",
   "metadata": {},
   "outputs": [],
   "source": []
  },
  {
   "cell_type": "code",
   "execution_count": null,
   "id": "d542f99a-3a58-4a74-9dc7-4f2d8430fdbd",
   "metadata": {},
   "outputs": [],
   "source": []
  }
 ],
 "metadata": {
  "kernelspec": {
   "display_name": "Python [conda env:base] *",
   "language": "python",
   "name": "conda-base-py"
  },
  "language_info": {
   "codemirror_mode": {
    "name": "ipython",
    "version": 3
   },
   "file_extension": ".py",
   "mimetype": "text/x-python",
   "name": "python",
   "nbconvert_exporter": "python",
   "pygments_lexer": "ipython3",
   "version": "3.12.7"
  }
 },
 "nbformat": 4,
 "nbformat_minor": 5
}
