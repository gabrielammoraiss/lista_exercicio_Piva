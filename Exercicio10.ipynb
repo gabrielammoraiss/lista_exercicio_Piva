{
 "cells": [
  {
   "cell_type": "markdown",
   "id": "bfcc81da-45e4-486c-b3a2-2d436993c0d3",
   "metadata": {},
   "source": [
    "Faça um programa que lê as duas notas parciais obtidas por um aluno numa disciplina ao longo de um semestre, e calcule a sua média. A atribuição de conceitos obedece à tabela abaixo:\n",
    "\n",
    "a. Média de Aproveitamento Conceito\n",
    "\n",
    "b. Entre 9.0 e 10.0 A\n",
    "\n",
    "c. Entre 7.5 e 9.0 B\n",
    "\n",
    "d. Entre 6.0 e 7.5 C\n",
    "\n",
    "e. Entre 4.0 e 6.0 D\n",
    "\n",
    "f. Entre 4.0 e zero E\n"
   ]
  },
  {
   "cell_type": "code",
   "execution_count": 31,
   "id": "9c8d9aa9-f4b2-4eb3-8d97-34f3682a153b",
   "metadata": {},
   "outputs": [
    {
     "name": "stdin",
     "output_type": "stream",
     "text": [
      "Digite a primeira nota:  6.8\n",
      "Digite a segunda nota:  5.2\n"
     ]
    },
    {
     "name": "stdout",
     "output_type": "stream",
     "text": [
      "Sua média final foi 6.0\n",
      "Conceito obtido: C\n",
      "Aprovado!!!\n"
     ]
    }
   ],
   "source": [
    "nota1 = float (input(\"Digite a primeira nota: \"))\n",
    "nota2 = float (input(\"Digite a segunda nota: \"))\n",
    "media = (nota1+nota2)/2\n",
    "if media >= 9.0:\n",
    "    conceito = \"A\"\n",
    "elif media >= 7.5:\n",
    "    conceito = \"B\"\n",
    "elif media >= 6.0:\n",
    "    conceito = \"C\"\n",
    "elif media >= 4.0:\n",
    "    conceito = \"D\"\n",
    "else:\n",
    "    conceito = \"E\"\n",
    "print (f\"Sua média final foi {media}\\nConceito obtido: {conceito}\")\n",
    "if media >= 6.0:\n",
    "    print (\"Aprovado!!!\")\n",
    "else:\n",
    "    print (\"Reprovado!\")\n",
    "        \n"
   ]
  },
  {
   "cell_type": "code",
   "execution_count": null,
   "id": "16f01890-4797-4d8b-8c74-bc15bb72b17f",
   "metadata": {},
   "outputs": [],
   "source": []
  },
  {
   "cell_type": "code",
   "execution_count": null,
   "id": "910abe51-fadb-4854-8afa-d51f6fc4434d",
   "metadata": {},
   "outputs": [],
   "source": []
  }
 ],
 "metadata": {
  "kernelspec": {
   "display_name": "Python [conda env:base] *",
   "language": "python",
   "name": "conda-base-py"
  },
  "language_info": {
   "codemirror_mode": {
    "name": "ipython",
    "version": 3
   },
   "file_extension": ".py",
   "mimetype": "text/x-python",
   "name": "python",
   "nbconvert_exporter": "python",
   "pygments_lexer": "ipython3",
   "version": "3.12.7"
  }
 },
 "nbformat": 4,
 "nbformat_minor": 5
}
