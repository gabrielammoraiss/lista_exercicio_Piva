{
 "cells": [
  {
   "cell_type": "markdown",
   "id": "d57308b1-3b5d-4360-adbf-ee84f3134b76",
   "metadata": {},
   "source": [
    "Supondo que a população de um país A seja da ordem de 80000 habitantes com uma taxa anual de crescimento de 3% e \n",
    "que a população de B seja 200000 habitantes com uma taxa de crescimento de 1.5%. Faça um programa que calcule e \n",
    "escreva o número de anos necessários para que a população do país A ultrapasse ou iguale a população do país B, \n",
    "mantidas as taxas de crescimeto"
   ]
  },
  {
   "cell_type": "code",
   "execution_count": 17,
   "id": "e4353769-8098-4322-ab32-09d8d8136073",
   "metadata": {},
   "outputs": [
    {
     "name": "stdout",
     "output_type": "stream",
     "text": [
      "Será necessário 64 anos para que a população do país A supere a população do país B\n"
     ]
    }
   ],
   "source": [
    "pais_a = 80000\n",
    "pais_b = 200000\n",
    "soma = 1\n",
    "\n",
    "while pais_a < pais_b:\n",
    "    pais_a *= 1.03  \n",
    "    pais_b *= 1.015  \n",
    "    soma += 1\n",
    "print (f\"Será necessário {soma} anos para que a população do país A supere a população do país B\")\n",
    "    \n"
   ]
  },
  {
   "cell_type": "code",
   "execution_count": null,
   "id": "440d57d7-6595-4130-b684-38904f7f00ad",
   "metadata": {},
   "outputs": [],
   "source": []
  }
 ],
 "metadata": {
  "kernelspec": {
   "display_name": "Python 3 (ipykernel)",
   "language": "python",
   "name": "python3"
  },
  "language_info": {
   "codemirror_mode": {
    "name": "ipython",
    "version": 3
   },
   "file_extension": ".py",
   "mimetype": "text/x-python",
   "name": "python",
   "nbconvert_exporter": "python",
   "pygments_lexer": "ipython3",
   "version": "3.12.7"
  }
 },
 "nbformat": 4,
 "nbformat_minor": 5
}
