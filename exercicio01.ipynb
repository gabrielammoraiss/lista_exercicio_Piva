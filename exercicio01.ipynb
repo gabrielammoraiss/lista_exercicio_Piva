{
 "cells": [
  {
   "cell_type": "markdown",
   "id": "2d8eb92c-8b6a-475d-a4a1-0cbf891f8613",
   "metadata": {},
   "source": [
    "Faça um Programa que peça dois números e imprima o maior deles."
   ]
  },
  {
   "cell_type": "code",
   "execution_count": 13,
   "id": "2ce5ad45-42c4-4209-bf13-a07ba94e8adc",
   "metadata": {},
   "outputs": [
    {
     "name": "stdin",
     "output_type": "stream",
     "text": [
      "Digite um número (1):  9\n",
      "Digite um número (2):  20\n"
     ]
    },
    {
     "name": "stdout",
     "output_type": "stream",
     "text": [
      "20 é o maior número\n"
     ]
    }
   ],
   "source": [
    "#tentei fazer como for mas não sei como fazer se os números são iguais\n",
    "maior = 0\n",
    "for n in range(2):\n",
    "    numero = int(input(f\"Digite um número ({n+1}): \"))\n",
    "    if numero > maior:\n",
    "        maior = numero\n",
    "print (f\"{maior} é o maior número\")\n",
    "\n",
    "\n"
   ]
  },
  {
   "cell_type": "code",
   "execution_count": 34,
   "id": "b5026692-907e-40d0-913c-b6d908f0e16e",
   "metadata": {},
   "outputs": [
    {
     "name": "stdin",
     "output_type": "stream",
     "text": [
      "Digite um número:  7\n",
      "Digite um número:  7\n"
     ]
    },
    {
     "name": "stdout",
     "output_type": "stream",
     "text": [
      "São números iguais\n"
     ]
    }
   ],
   "source": [
    "# agora sem for\n",
    "n1 = int(input(\"Digite um número: \"))\n",
    "n2 = int (input(\"Digite um número: \"))\n",
    "if n1 > n2:\n",
    "    print (f\"{n1} é o maior número\")\n",
    "elif n1 < n2: \n",
    "    print (f\"{n2} é o maior numero\")\n",
    "else:\n",
    "    print (\"São números iguais\")\n",
    "\n"
   ]
  },
  {
   "cell_type": "code",
   "execution_count": null,
   "id": "0e32e55b-5912-427a-a4f2-d1850fa24d3f",
   "metadata": {},
   "outputs": [],
   "source": []
  },
  {
   "cell_type": "code",
   "execution_count": null,
   "id": "6e66e9bb-8d5d-43bc-bd00-a8c7764a594a",
   "metadata": {},
   "outputs": [],
   "source": []
  }
 ],
 "metadata": {
  "kernelspec": {
   "display_name": "Python 3 (ipykernel)",
   "language": "python",
   "name": "python3"
  },
  "language_info": {
   "codemirror_mode": {
    "name": "ipython",
    "version": 3
   },
   "file_extension": ".py",
   "mimetype": "text/x-python",
   "name": "python",
   "nbconvert_exporter": "python",
   "pygments_lexer": "ipython3",
   "version": "3.12.7"
  }
 },
 "nbformat": 4,
 "nbformat_minor": 5
}
