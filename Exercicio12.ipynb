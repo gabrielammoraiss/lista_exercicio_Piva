{
 "cells": [
  {
   "cell_type": "markdown",
   "id": "7e3292ab-cae1-4500-99a3-0cd9496962a2",
   "metadata": {},
   "source": [
    "Faça um programa que leia um nome de usuário e a sua senha e não aceite a senha igual ao nome do usuário, mostrando \n",
    "uma mensagem de erro e voltando a pedir as informações."
   ]
  },
  {
   "cell_type": "code",
   "execution_count": 2,
   "id": "c73bc820-985d-49d5-9fbf-42c8426c450c",
   "metadata": {},
   "outputs": [
    {
     "name": "stdin",
     "output_type": "stream",
     "text": [
      "Digite o seu usuário:  gabi\n",
      "Digite a sua senha:  gabi\n"
     ]
    },
    {
     "name": "stdout",
     "output_type": "stream",
     "text": [
      "Erro!O usuário precisa ser diferente da senha\n"
     ]
    },
    {
     "name": "stdin",
     "output_type": "stream",
     "text": [
      "Digite o seu usuário:  gabi\n",
      "Digite a sua senha:  1234\n"
     ]
    }
   ],
   "source": [
    "usuario = \"\"\n",
    "senha = \"\"\n",
    "while usuario == senha:\n",
    "    usuario = input(\"Digite o seu usuário: \")\n",
    "    senha = input (\"Digite a sua senha: \")\n",
    "    if usuario == senha:\n",
    "        print (\"Erro!O usuário precisa ser diferente da senha\")\n",
    "    "
   ]
  },
  {
   "cell_type": "code",
   "execution_count": null,
   "id": "13b05473-b8ce-4f71-bcc2-8bd8cbb89f6f",
   "metadata": {},
   "outputs": [],
   "source": []
  }
 ],
 "metadata": {
  "kernelspec": {
   "display_name": "Python 3 (ipykernel)",
   "language": "python",
   "name": "python3"
  },
  "language_info": {
   "codemirror_mode": {
    "name": "ipython",
    "version": 3
   },
   "file_extension": ".py",
   "mimetype": "text/x-python",
   "name": "python",
   "nbconvert_exporter": "python",
   "pygments_lexer": "ipython3",
   "version": "3.12.7"
  }
 },
 "nbformat": 4,
 "nbformat_minor": 5
}
