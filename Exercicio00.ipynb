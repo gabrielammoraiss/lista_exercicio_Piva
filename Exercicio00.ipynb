{
 "cells": [
  {
   "cell_type": "markdown",
   "id": "faf95f2b-a3d3-4948-825f-2234298035d0",
   "metadata": {},
   "source": [
    "Faça um algoritmo para ler um número e mostrar se ele é par ou impar, positivo ou negativo."
   ]
  },
  {
   "cell_type": "code",
   "execution_count": 10,
   "id": "f0a216ec-185a-433c-b990-2433736747f0",
   "metadata": {},
   "outputs": [
    {
     "name": "stdin",
     "output_type": "stream",
     "text": [
      "Digite um número:  6\n"
     ]
    },
    {
     "name": "stdout",
     "output_type": "stream",
     "text": [
      "O número '6' é par positivo\n"
     ]
    }
   ],
   "source": [
    "numero = int (input(\"Digite um número: \"))\n",
    "if numero < 0:\n",
    "    if numero %2 == 0:\n",
    "        print (f\"O número '{numero}' é par e negativo\")\n",
    "    else:\n",
    "        print (f\"O número '{numero}' é impar negativo\")\n",
    "    \n",
    "\n",
    "else:\n",
    "    if numero %2 == 0:\n",
    "        print (f\"O número '{numero}' é par positivo\")\n",
    "    else:\n",
    "        print (f\"O número '{numero}' é impar positivo\")"
   ]
  },
  {
   "cell_type": "code",
   "execution_count": null,
   "id": "49acbc13-cd8b-45ca-94b6-b4a85f16934e",
   "metadata": {},
   "outputs": [],
   "source": []
  }
 ],
 "metadata": {
  "kernelspec": {
   "display_name": "Python [conda env:base] *",
   "language": "python",
   "name": "conda-base-py"
  },
  "language_info": {
   "codemirror_mode": {
    "name": "ipython",
    "version": 3
   },
   "file_extension": ".py",
   "mimetype": "text/x-python",
   "name": "python",
   "nbconvert_exporter": "python",
   "pygments_lexer": "ipython3",
   "version": "3.12.7"
  }
 },
 "nbformat": 4,
 "nbformat_minor": 5
}
