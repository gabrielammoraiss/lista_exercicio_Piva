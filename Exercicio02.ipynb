{
 "cells": [
  {
   "cell_type": "markdown",
   "id": "fb317d11-c573-43ea-b6e5-c69576fe8a37",
   "metadata": {},
   "source": [
    "Faça um Programa que peça um valor e mostre na tela se o valor é positivo ou negativo."
   ]
  },
  {
   "cell_type": "code",
   "execution_count": 17,
   "id": "95d94bd1-52d8-4d1d-8b65-dcfb3d1c5948",
   "metadata": {},
   "outputs": [
    {
     "name": "stdin",
     "output_type": "stream",
     "text": [
      "Digite um número:  0\n"
     ]
    },
    {
     "name": "stdout",
     "output_type": "stream",
     "text": [
      "O número digitado é '0'\n"
     ]
    }
   ],
   "source": [
    "n = int (input(\"Digite um número: \"))\n",
    "if n > 0:\n",
    "    print (f\"O número digitado '{n}' é um número positivo\")\n",
    "elif n < 0:\n",
    "    print (f\"O número digitado '{n}' é um número negativo\")\n",
    "else: \n",
    "    print (\"O número digitado é '0'\")\n",
    "    "
   ]
  },
  {
   "cell_type": "code",
   "execution_count": null,
   "id": "0f206f8a-21cd-4f61-84a0-56ab0158fcee",
   "metadata": {},
   "outputs": [],
   "source": []
  }
 ],
 "metadata": {
  "kernelspec": {
   "display_name": "Python [conda env:base] *",
   "language": "python",
   "name": "conda-base-py"
  },
  "language_info": {
   "codemirror_mode": {
    "name": "ipython",
    "version": 3
   },
   "file_extension": ".py",
   "mimetype": "text/x-python",
   "name": "python",
   "nbconvert_exporter": "python",
   "pygments_lexer": "ipython3",
   "version": "3.12.7"
  }
 },
 "nbformat": 4,
 "nbformat_minor": 5
}
