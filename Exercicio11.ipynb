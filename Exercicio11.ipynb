{
 "cells": [
  {
   "cell_type": "markdown",
   "id": "f0354bfd-c4e0-432a-a148-ddb09f57bf38",
   "metadata": {},
   "source": [
    "Faça um programa que peça uma nota, entre zero e dez. Mostre uma mensagem caso o valor seja inválido e continue \n",
    "pedindo até que o usuário informe um valor válido"
   ]
  },
  {
   "cell_type": "code",
   "execution_count": 5,
   "id": "c98963a2-1465-442d-8997-67f591982520",
   "metadata": {},
   "outputs": [
    {
     "name": "stdin",
     "output_type": "stream",
     "text": [
      "Digite sua nota:  -8\n"
     ]
    },
    {
     "name": "stdout",
     "output_type": "stream",
     "text": [
      "Nota inválida! Digite novamente\n"
     ]
    },
    {
     "name": "stdin",
     "output_type": "stream",
     "text": [
      "Digite sua nota:  11\n"
     ]
    },
    {
     "name": "stdout",
     "output_type": "stream",
     "text": [
      "Nota inválida! Digite novamente\n"
     ]
    },
    {
     "name": "stdin",
     "output_type": "stream",
     "text": [
      "Digite sua nota:  5\n"
     ]
    }
   ],
   "source": [
    "while True:\n",
    "    nota = float (input(\"Digite sua nota: \"))\n",
    "    if nota <0 or nota >10:\n",
    "        print(\"Nota inválida! Digite novamente\")\n",
    "    else:\n",
    "        break"
   ]
  },
  {
   "cell_type": "code",
   "execution_count": null,
   "id": "99c2c5d2-5426-44db-b34f-7b8d8c0f0068",
   "metadata": {},
   "outputs": [],
   "source": []
  },
  {
   "cell_type": "code",
   "execution_count": null,
   "id": "9be3c59a-9155-42e9-96cf-402601de29f2",
   "metadata": {},
   "outputs": [],
   "source": []
  }
 ],
 "metadata": {
  "kernelspec": {
   "display_name": "Python 3 (ipykernel)",
   "language": "python",
   "name": "python3"
  },
  "language_info": {
   "codemirror_mode": {
    "name": "ipython",
    "version": 3
   },
   "file_extension": ".py",
   "mimetype": "text/x-python",
   "name": "python",
   "nbconvert_exporter": "python",
   "pygments_lexer": "ipython3",
   "version": "3.12.7"
  }
 },
 "nbformat": 4,
 "nbformat_minor": 5
}
