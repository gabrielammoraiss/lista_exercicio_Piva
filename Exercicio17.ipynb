{
 "cells": [
  {
   "cell_type": "markdown",
   "id": "852c7835-9476-4e6c-b0af-32c9b20e46ec",
   "metadata": {},
   "source": [
    "A série de Fibonacci é formada pela seqüência 1,1,2,3,5,8,13,21,34,55,... Faça um programa capaz de gerar a série até o \n",
    "n−ésimo termo. \n"
   ]
  },
  {
   "cell_type": "code",
   "execution_count": 2,
   "id": "935aea78-5f05-4604-9a41-357271bd78cd",
   "metadata": {},
   "outputs": [
    {
     "name": "stdin",
     "output_type": "stream",
     "text": [
      "Digite um número inteiro e positivo:  20\n"
     ]
    },
    {
     "name": "stdout",
     "output_type": "stream",
     "text": [
      "Os 20 primeiros números da sequência de Fibonacci é: \n",
      "[0, 1, 1, 2, 3, 5, 8, 13, 21, 34, 55, 89, 144, 233, 377, 610, 987, 1597, 2584, 4181]\n"
     ]
    }
   ],
   "source": [
    "numero = int (input(\"Digite um número inteiro e positivo: \"))\n",
    "fibonacci = [0, 1]\n",
    "i = 2\n",
    "while i < numero:\n",
    "    proximo = fibonacci[i-1] + fibonacci[i-2]\n",
    "    fibonacci.append(proximo)\n",
    "    i += 1\n",
    "print (f\"Os {numero} primeiros números da sequência de Fibonacci é: \\n{fibonacci}\")"
   ]
  },
  {
   "cell_type": "code",
   "execution_count": null,
   "id": "f47657ce-c86b-4710-909d-ce431f745bd9",
   "metadata": {},
   "outputs": [],
   "source": []
  }
 ],
 "metadata": {
  "kernelspec": {
   "display_name": "Python 3 (ipykernel)",
   "language": "python",
   "name": "python3"
  },
  "language_info": {
   "codemirror_mode": {
    "name": "ipython",
    "version": 3
   },
   "file_extension": ".py",
   "mimetype": "text/x-python",
   "name": "python",
   "nbconvert_exporter": "python",
   "pygments_lexer": "ipython3",
   "version": "3.12.7"
  }
 },
 "nbformat": 4,
 "nbformat_minor": 5
}
