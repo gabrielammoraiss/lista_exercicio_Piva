{
 "cells": [
  {
   "cell_type": "markdown",
   "id": "b931042f-534f-4c1f-806f-593b634bf412",
   "metadata": {},
   "source": [
    "Faça um Programa que pergunte em que turno você estuda. Peça para digitar M-matutino ou V-Vespertino ou N- Noturno. Imprima a mensagem \"Bom Dia!\", \"Boa Tarde!\" ou \"Boa Noite!\" ou \"Valor Inválido!\", conforme o caso."
   ]
  },
  {
   "cell_type": "code",
   "execution_count": 24,
   "id": "df1ad5af-9219-4a8e-94ba-68ab2bb40137",
   "metadata": {},
   "outputs": [
    {
     "name": "stdin",
     "output_type": "stream",
     "text": [
      "Digite o turno que você estuda: M (matutino) ou V (Vespertino) ou N (Noturno):  m\n"
     ]
    },
    {
     "name": "stdout",
     "output_type": "stream",
     "text": [
      "Bom dia!\n"
     ]
    }
   ],
   "source": [
    "turno = (input(\"Digite o turno que você estuda: M (matutino) ou V (Vespertino) ou N (Noturno): \")).upper()\n",
    "\n",
    "if turno == \"M\":\n",
    "    print(\"Bom dia!\")\n",
    "elif turno == \"V\":\n",
    "    print (\"Boa tarde!\")\n",
    "elif turno == \"N\":\n",
    "    print (\"Boa noite!\")\n",
    "else:\n",
    "    print (\"Valor inválido!\\nDigite M para maturino, V para vespertino ou N para noturno\")"
   ]
  }
 ],
 "metadata": {
  "kernelspec": {
   "display_name": "Python [conda env:base] *",
   "language": "python",
   "name": "conda-base-py"
  },
  "language_info": {
   "codemirror_mode": {
    "name": "ipython",
    "version": 3
   },
   "file_extension": ".py",
   "mimetype": "text/x-python",
   "name": "python",
   "nbconvert_exporter": "python",
   "pygments_lexer": "ipython3",
   "version": "3.12.7"
  }
 },
 "nbformat": 4,
 "nbformat_minor": 5
}
