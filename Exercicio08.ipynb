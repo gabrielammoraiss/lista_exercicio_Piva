{
 "cells": [
  {
   "cell_type": "markdown",
   "id": "7f163de1-d825-45a3-9836-b637035d5b93",
   "metadata": {},
   "source": [
    "As Organizações Tabajara resolveram dar um aumento de salário aos seus colaboradores e lhe contraram para desenvolver o programa que calculará os reajustes.\n",
    "\n",
    "a. Faça um programa que recebe o salário de um colaborador e o reajuste segundo o seguinte critério, baseado no salário atual:\n",
    "\n",
    "b. salários até R$ 280,00 (incluindo) : aumento de 20%\n",
    "\n",
    "c.salários entre R$ 280,00 e R$ 700,00 : aumento de 15%\n",
    "\n",
    "d.salários entre R$ 700,00 e R$ 1500,00 : aumento de 10%\n",
    "\n",
    "e.salários de R$ 1500,00 em diante : aumento de 5% Após o aumento ser realizado, informe na tela:\n",
    "\n",
    "f.o salário antes do reajuste;\n",
    "\n",
    "g.o percentual de aumento aplicado;\n",
    "\n",
    "h.o valor do aumento;\n",
    "\n",
    "i.o novo salário, após o aumento.\n"
   ]
  },
  {
   "cell_type": "code",
   "execution_count": 32,
   "id": "d89c1617-8790-436e-8b66-7ee5e8d7733a",
   "metadata": {},
   "outputs": [
    {
     "name": "stdin",
     "output_type": "stream",
     "text": [
      "Digite o seu salário:  1500\n"
     ]
    },
    {
     "name": "stdout",
     "output_type": "stream",
     "text": [
      "Valor do salário: R$ 1500.00\n",
      "Reajuste: R$ 150.00\n",
      "Salário após reajuste: R$ 1650.00\n"
     ]
    }
   ],
   "source": [
    "salario = float (input(\"Digite o seu salário: \"))\n",
    "\n",
    "if salario <= 280.00:\n",
    "    porc = 20\n",
    "elif salario <= 700.00:\n",
    "    porc = 15\n",
    "elif salario <= 1500.00:\n",
    "    porc = 10\n",
    "else:\n",
    "    porc = 5\n",
    "\n",
    "aumento = (porc / 100) * salario\n",
    "\n",
    "novo = salario + aumento\n",
    "\n",
    "print (f\"Valor do salário: R$ {salario:.2f}\\nReajuste: R$ {aumento:.2f}\\nSalário após reajuste: R$ {novo:.2f}\")\n",
    "\n",
    "\n"
   ]
  },
  {
   "cell_type": "code",
   "execution_count": null,
   "id": "02299a66-ddd6-4ff5-b862-3cae9d5a1909",
   "metadata": {},
   "outputs": [],
   "source": []
  }
 ],
 "metadata": {
  "kernelspec": {
   "display_name": "Python [conda env:base] *",
   "language": "python",
   "name": "conda-base-py"
  },
  "language_info": {
   "codemirror_mode": {
    "name": "ipython",
    "version": 3
   },
   "file_extension": ".py",
   "mimetype": "text/x-python",
   "name": "python",
   "nbconvert_exporter": "python",
   "pygments_lexer": "ipython3",
   "version": "3.12.7"
  }
 },
 "nbformat": 4,
 "nbformat_minor": 5
}
