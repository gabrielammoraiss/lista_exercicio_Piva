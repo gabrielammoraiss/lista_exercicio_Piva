{
 "cells": [
  {
   "cell_type": "markdown",
   "id": "be9e527e-6bcd-4f03-8925-1c7424da438d",
   "metadata": {},
   "source": [
    "Faça um programa que pergunte o preço de três produtos e informe qual produto você deve comprar, sabendo que a decisão é sempre pelo mais barato."
   ]
  },
  {
   "cell_type": "code",
   "execution_count": 1,
   "id": "00a73802-3ff1-42dc-96f0-3fb165299cae",
   "metadata": {},
   "outputs": [
    {
     "name": "stdin",
     "output_type": "stream",
     "text": [
      "Digite o preço do produto 1:  15.50\n",
      "Digite o preço do produto 2:  25\n",
      "Digite o preço do produto 3:  35.90\n"
     ]
    },
    {
     "name": "stdout",
     "output_type": "stream",
     "text": [
      "O produto 1 é o mais barato\n"
     ]
    }
   ],
   "source": [
    "p1 = float(input(\"Digite o preço do produto 1: \"))\n",
    "p2 = float(input(\"Digite o preço do produto 2: \"))\n",
    "p3 = float(input(\"Digite o preço do produto 3: \"))\n",
    "\n",
    "if p1 == p2 and p2 ==p3:\n",
    "    print (\"Os produtos tem o mesmo preço\")\n",
    "else:\n",
    "    if p1 < p2 and p1 < p3:\n",
    "        print (\"O produto 1 é o mais barato\")\n",
    "    elif p2 < p3 and p2 < p1 :\n",
    "        print (\"O produto 2 é o mais barato\")\n",
    "    else:\n",
    "        print (\"O produto 3 é o mais barato\")"
   ]
  },
  {
   "cell_type": "code",
   "execution_count": null,
   "id": "ff7177ff-5d06-4629-9512-f71e6175f684",
   "metadata": {},
   "outputs": [],
   "source": []
  }
 ],
 "metadata": {
  "kernelspec": {
   "display_name": "Python 3 (ipykernel)",
   "language": "python",
   "name": "python3"
  },
  "language_info": {
   "codemirror_mode": {
    "name": "ipython",
    "version": 3
   },
   "file_extension": ".py",
   "mimetype": "text/x-python",
   "name": "python",
   "nbconvert_exporter": "python",
   "pygments_lexer": "ipython3",
   "version": "3.12.7"
  }
 },
 "nbformat": 4,
 "nbformat_minor": 5
}
