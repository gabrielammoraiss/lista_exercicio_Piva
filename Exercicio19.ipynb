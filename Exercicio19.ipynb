{
 "cells": [
  {
   "cell_type": "markdown",
   "id": "1f882fe6-01b6-436a-bd6e-6c547eaecf61",
   "metadata": {},
   "source": [
    "O Sr. Manoel Joaquim possui uma grande loja de artigos de R$ 1,99, com cerca de 10 caixas. Para agilizar o cálculo de \n",
    "quanto cada cliente deve pagar ele desenvolveu um tabela que contém o número de itens que o cliente comprou e ao lado \n",
    "o valor da conta. Desta forma a atendente do caixa precisa apenas contar quantos itens o cliente está levando e olhar na \n",
    "tabela de preços. Você foi contratado para desenvolver o programa que monta esta tabela de preços, que conterá os preços \n",
    "de 1 até 50 produtos, conforme o exemplo abaixo: \n",
    "\n",
    "a. Lojas Quase Dois - Tabela de preços \n",
    "b. 1 - R$ 1.99 \n",
    "c. 2 - R$ 3.98 \n",
    "d. ... \n",
    "e. 50 - R$ 99.50"
   ]
  },
  {
   "cell_type": "code",
   "execution_count": 11,
   "id": "c95736fa-4684-4c1a-8a8b-8ee8b9345cec",
   "metadata": {},
   "outputs": [
    {
     "name": "stdout",
     "output_type": "stream",
     "text": [
      "Tabela de preço:\n",
      "1 = R$ 1.99\n",
      "2 = R$ 3.98\n",
      "3 = R$ 5.97\n",
      "4 = R$ 7.96\n",
      "5 = R$ 9.95\n",
      "6 = R$ 11.94\n",
      "7 = R$ 13.93\n",
      "8 = R$ 15.92\n",
      "9 = R$ 17.91\n",
      "10 = R$ 19.90\n",
      "11 = R$ 21.89\n",
      "12 = R$ 23.88\n",
      "13 = R$ 25.87\n",
      "14 = R$ 27.86\n",
      "15 = R$ 29.85\n",
      "16 = R$ 31.84\n",
      "17 = R$ 33.83\n",
      "18 = R$ 35.82\n",
      "19 = R$ 37.81\n",
      "20 = R$ 39.80\n",
      "21 = R$ 41.79\n",
      "22 = R$ 43.78\n",
      "23 = R$ 45.77\n",
      "24 = R$ 47.76\n",
      "25 = R$ 49.75\n",
      "26 = R$ 51.74\n",
      "27 = R$ 53.73\n",
      "28 = R$ 55.72\n",
      "29 = R$ 57.71\n",
      "30 = R$ 59.70\n",
      "31 = R$ 61.69\n",
      "32 = R$ 63.68\n",
      "33 = R$ 65.67\n",
      "34 = R$ 67.66\n",
      "35 = R$ 69.65\n",
      "36 = R$ 71.64\n",
      "37 = R$ 73.63\n",
      "38 = R$ 75.62\n",
      "39 = R$ 77.61\n",
      "40 = R$ 79.60\n",
      "41 = R$ 81.59\n",
      "42 = R$ 83.58\n",
      "43 = R$ 85.57\n",
      "44 = R$ 87.56\n",
      "45 = R$ 89.55\n",
      "46 = R$ 91.54\n",
      "47 = R$ 93.53\n",
      "48 = R$ 95.52\n",
      "49 = R$ 97.51\n",
      "50 = R$ 99.50\n"
     ]
    }
   ],
   "source": [
    "print (\"Tabela de preço:\")\n",
    "for i in range (1,51):\n",
    "    print (f\"{i} = R$ {i*1.99:.2f}\")\n",
    "    "
   ]
  },
  {
   "cell_type": "markdown",
   "id": "51ff28a1-1b35-4e5d-8060-d8e4b6d75e21",
   "metadata": {},
   "source": []
  }
 ],
 "metadata": {
  "kernelspec": {
   "display_name": "Python 3 (ipykernel)",
   "language": "python",
   "name": "python3"
  },
  "language_info": {
   "codemirror_mode": {
    "name": "ipython",
    "version": 3
   },
   "file_extension": ".py",
   "mimetype": "text/x-python",
   "name": "python",
   "nbconvert_exporter": "python",
   "pygments_lexer": "ipython3",
   "version": "3.12.7"
  }
 },
 "nbformat": 4,
 "nbformat_minor": 5
}
