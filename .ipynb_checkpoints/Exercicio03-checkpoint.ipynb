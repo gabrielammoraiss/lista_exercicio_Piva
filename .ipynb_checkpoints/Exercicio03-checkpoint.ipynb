{
 "cells": [
  {
   "cell_type": "markdown",
   "id": "d2cd59c5-1801-48d7-b6f3-5f83b915bef1",
   "metadata": {},
   "source": [
    "Faça um Programa que verifique se uma letra digitada é vogal ou consoante."
   ]
  },
  {
   "cell_type": "code",
   "execution_count": 34,
   "id": "ed6fe4db-2c73-41c3-847c-52699102dd3c",
   "metadata": {},
   "outputs": [
    {
     "name": "stdin",
     "output_type": "stream",
     "text": [
      "Digite uma letra:  B\n"
     ]
    },
    {
     "name": "stdout",
     "output_type": "stream",
     "text": [
      "A letra digitada 'b' é uma letra consoante\n"
     ]
    }
   ],
   "source": [
    "letra = input(\"Digite uma letra: \").lower()\n",
    "if letra in (\"a\" \"e\" \"i\" \"o\" \"u\"):\n",
    "    print (f\"A letra digitada '{letra}' é uma letra vogal\")\n",
    "else:\n",
    "    print (f\"A letra digitada '{letra}' é uma letra consoante\")\n",
    "\n"
   ]
  },
  {
   "cell_type": "code",
   "execution_count": null,
   "id": "5ef8f8eb-e7ab-430e-9adf-e6ac6af00730",
   "metadata": {},
   "outputs": [],
   "source": []
  }
 ],
 "metadata": {
  "kernelspec": {
   "display_name": "Python [conda env:base] *",
   "language": "python",
   "name": "conda-base-py"
  },
  "language_info": {
   "codemirror_mode": {
    "name": "ipython",
    "version": 3
   },
   "file_extension": ".py",
   "mimetype": "text/x-python",
   "name": "python",
   "nbconvert_exporter": "python",
   "pygments_lexer": "ipython3",
   "version": "3.12.7"
  }
 },
 "nbformat": 4,
 "nbformat_minor": 5
}
