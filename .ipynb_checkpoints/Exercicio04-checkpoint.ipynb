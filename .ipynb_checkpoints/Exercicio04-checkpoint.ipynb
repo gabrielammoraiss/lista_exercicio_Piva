{
 "cells": [
  {
   "cell_type": "markdown",
   "id": "d1f6a64f-8a6f-4ce0-975b-b6aa5cd47a02",
   "metadata": {},
   "source": [
    "Faça um programa para a leitura de duas notas parciais de um aluno. O programa deve calcular a média alcançada por aluno e apresentar:\n",
    "\n",
    "a. A mensagem \"Aprovado\", se a média alcançada for maior ou igual a sete;\n",
    "\n",
    "b. A mensagem \"Reprovado\", se a média for menor do que sete;\n",
    "\n",
    "c. A mensagem \"Aprovado com Distinção\", se a média for igual a dez.\n"
   ]
  },
  {
   "cell_type": "code",
   "execution_count": 49,
   "id": "4c10a78e-9284-4643-8fe6-bc6202446a3d",
   "metadata": {},
   "outputs": [
    {
     "name": "stdin",
     "output_type": "stream",
     "text": [
      "Digite a nota1:  10\n",
      "Digite a nota2:  10\n"
     ]
    },
    {
     "name": "stdout",
     "output_type": "stream",
     "text": [
      "Média: 10.0\n",
      "Aprovado com Distinção\n"
     ]
    }
   ],
   "source": [
    "n1 = float (input(\"Digite a nota1: \"))\n",
    "n2 = float (input(\"Digite a nota2: \"))\n",
    "media = (n1 + n2)/2\n",
    "\n",
    "if media == 10:\n",
    "    print (f\"Média: {media}\\nAprovado com Distinção\")\n",
    "elif media >= 7:\n",
    "    print (f\"Média: {media}\\nAprovado\")\n",
    "else: \n",
    "    print (f\"Média: {media}\\nReprovado\")"
   ]
  },
  {
   "cell_type": "code",
   "execution_count": null,
   "id": "85be405b-5fc0-4b34-9cea-2dec07a3e02c",
   "metadata": {},
   "outputs": [],
   "source": []
  },
  {
   "cell_type": "code",
   "execution_count": null,
   "id": "b215f48f-ac14-43cf-907c-63123a4d03f4",
   "metadata": {},
   "outputs": [],
   "source": []
  }
 ],
 "metadata": {
  "kernelspec": {
   "display_name": "Python [conda env:base] *",
   "language": "python",
   "name": "conda-base-py"
  },
  "language_info": {
   "codemirror_mode": {
    "name": "ipython",
    "version": 3
   },
   "file_extension": ".py",
   "mimetype": "text/x-python",
   "name": "python",
   "nbconvert_exporter": "python",
   "pygments_lexer": "ipython3",
   "version": "3.12.7"
  }
 },
 "nbformat": 4,
 "nbformat_minor": 5
}
