{
 "cells": [
  {
   "cell_type": "markdown",
   "id": "461e6333-9826-4a40-b349-518b64a62850",
   "metadata": {},
   "source": [
    "Faça um programa que leia e valide as seguintes informações: \n",
    "\n",
    "a. Nome: maior que 3 caracteres;\n",
    "\n",
    "b. Idade: entre 0 e 150; \n",
    "\n",
    "c. Salário: maior que zero; \n",
    "\n",
    "d. Sexo: 'f' ou 'm'; \n",
    "\n",
    "e. Estado Civil: 's', 'c', 'v', 'd'; \n"
   ]
  },
  {
   "cell_type": "code",
   "execution_count": 1,
   "id": "4a964573-ad3b-4b8c-ba49-ce843957e7fa",
   "metadata": {},
   "outputs": [
    {
     "name": "stdin",
     "output_type": "stream",
     "text": [
      "Informe um nome:  Gab\n"
     ]
    },
    {
     "name": "stdout",
     "output_type": "stream",
     "text": [
      "O nome deve ter mais de tres letras!\n"
     ]
    },
    {
     "name": "stdin",
     "output_type": "stream",
     "text": [
      "Informe um nome:  Gabi\n",
      "Digite a sua idade:  350\n"
     ]
    },
    {
     "name": "stdout",
     "output_type": "stream",
     "text": [
      "Digite uma idade válida!\n"
     ]
    },
    {
     "name": "stdin",
     "output_type": "stream",
     "text": [
      "Digite a sua idade:  35\n",
      "Informe o sexo:  fem\n"
     ]
    },
    {
     "name": "stdout",
     "output_type": "stream",
     "text": [
      "O sexo deve ser infomado como M (masculino) ou F (feminino)\n"
     ]
    },
    {
     "name": "stdin",
     "output_type": "stream",
     "text": [
      "Informe o sexo:  f\n",
      "Informe o estado civil:  casada\n"
     ]
    },
    {
     "name": "stdout",
     "output_type": "stream",
     "text": [
      "Estado civil deve ser informado como S (solteiro), C (casado), V (viuvo) ou D (divorciado)\n"
     ]
    },
    {
     "name": "stdin",
     "output_type": "stream",
     "text": [
      "Informe o estado civil:  c\n"
     ]
    }
   ],
   "source": [
    "nome = \"\"\n",
    "while (len(nome) <= 3):\n",
    "    nome = input('Informe um nome: ')\n",
    "    if (len(nome) <= 3):\n",
    "        print('O nome deve ter mais de tres letras!')\n",
    "        \n",
    "idade = -1\n",
    "while idade <= 0 or idade >= 150:\n",
    "    idade = int (input(\"Digite a sua idade: \"))\n",
    "    if idade <= 0 or idade >= 150:\n",
    "        print (\"Digite uma idade válida!\")\n",
    "\n",
    "sexo = ''\n",
    "while (sexo != 'F') and (sexo != 'M'):\n",
    "    sexo = input('Informe o sexo: ').upper()\n",
    "    if (sexo != 'F') and (sexo != 'M'):\n",
    "        print('O sexo deve ser infomado como M (masculino) ou F (feminino)')\n",
    "        \n",
    "estado_civil = 'A'\n",
    "while ('SCVD'.find(estado_civil) < 0):\n",
    "    estado_civil = input('Informe o estado civil: ').upper()\n",
    "    if ('SCVD'.find(estado_civil) < 0):\n",
    "        print('Estado civil deve ser informado como S (solteiro), C (casado),'\\\n",
    "            ' V (viuvo) ou D (divorciado)')\n",
    "\n",
    "\n",
    "\n",
    "\n",
    "\n",
    "\n",
    "\n"
   ]
  },
  {
   "cell_type": "code",
   "execution_count": null,
   "id": "4a286f2d-5ece-4121-888e-c4d2e7988b5d",
   "metadata": {},
   "outputs": [],
   "source": []
  }
 ],
 "metadata": {
  "kernelspec": {
   "display_name": "Python 3 (ipykernel)",
   "language": "python",
   "name": "python3"
  },
  "language_info": {
   "codemirror_mode": {
    "name": "ipython",
    "version": 3
   },
   "file_extension": ".py",
   "mimetype": "text/x-python",
   "name": "python",
   "nbconvert_exporter": "python",
   "pygments_lexer": "ipython3",
   "version": "3.12.7"
  }
 },
 "nbformat": 4,
 "nbformat_minor": 5
}
