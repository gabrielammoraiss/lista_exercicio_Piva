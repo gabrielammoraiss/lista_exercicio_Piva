{
 "cells": [
  {
   "cell_type": "markdown",
   "id": "e63678dd-f20a-45ea-8d0a-2880b2801364",
   "metadata": {},
   "source": [
    "Faça um programa que leia 5 números e informe a soma e a média dos números. "
   ]
  },
  {
   "cell_type": "code",
   "execution_count": 4,
   "id": "b0450dba-707e-4a35-965c-02985855d293",
   "metadata": {},
   "outputs": [
    {
     "name": "stdin",
     "output_type": "stream",
     "text": [
      "Digite o 1º número:  5\n",
      "Digite o 2º número:  5\n",
      "Digite o 3º número:  5\n",
      "Digite o 4º número:  5\n",
      "Digite o 5º número:  5\n"
     ]
    },
    {
     "name": "stdout",
     "output_type": "stream",
     "text": [
      "\n",
      "A soma dos números informados é: 25.0\n",
      "A médias dos números inforados é: 5.0\n"
     ]
    }
   ],
   "source": [
    "soma = 0\n",
    "for i in range (5):\n",
    "    numero = float (input (f\"Digite o {i+1}º número: \"))\n",
    "    soma += numero\n",
    "print (f\"\"\"\n",
    "A soma dos números informados é: {soma}\n",
    "A médias dos números inforados é: {soma/5}\"\"\")\n"
   ]
  },
  {
   "cell_type": "code",
   "execution_count": null,
   "id": "0196d256-782b-4f80-a1f8-e940331516ed",
   "metadata": {},
   "outputs": [],
   "source": []
  }
 ],
 "metadata": {
  "kernelspec": {
   "display_name": "Python 3 (ipykernel)",
   "language": "python",
   "name": "python3"
  },
  "language_info": {
   "codemirror_mode": {
    "name": "ipython",
    "version": 3
   },
   "file_extension": ".py",
   "mimetype": "text/x-python",
   "name": "python",
   "nbconvert_exporter": "python",
   "pygments_lexer": "ipython3",
   "version": "3.12.7"
  }
 },
 "nbformat": 4,
 "nbformat_minor": 5
}
