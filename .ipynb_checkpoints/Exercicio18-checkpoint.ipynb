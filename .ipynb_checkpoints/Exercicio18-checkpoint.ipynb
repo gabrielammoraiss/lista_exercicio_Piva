{
 "cells": [
  {
   "cell_type": "markdown",
   "id": "d42f72b0-10b6-422b-9e4f-ddbdc173e92c",
   "metadata": {},
   "source": [
    "Faça um programa que calcule o mostre a média aritmética de N notas"
   ]
  },
  {
   "cell_type": "code",
   "execution_count": 10,
   "id": "c6cccf6f-d4e3-4186-86a4-a0bac05c8719",
   "metadata": {},
   "outputs": [
    {
     "name": "stdin",
     "output_type": "stream",
     "text": [
      "Deseja saber a média de quantas notas?  3\n",
      "Digite a 1ª nota:  5\n",
      "Digite a 2ª nota:  5\n",
      "Digite a 3ª nota:  5\n"
     ]
    },
    {
     "name": "stdout",
     "output_type": "stream",
     "text": [
      "A média das 3 notas é: 5.0\n"
     ]
    }
   ],
   "source": [
    "quantidade = int(input(\"Deseja saber a média de quantas notas? \"))\n",
    "soma = 0\n",
    "for i in range (quantidade):\n",
    "    nota = float (input(f\"Digite a {i+1}ª nota: \"))\n",
    "    soma += nota\n",
    "    i+= 1\n",
    "    \n",
    "print (f\"A média das {quantidade} notas é: {soma/quantidade}\")\n",
    "    \n",
    "\n",
    "    \n",
    "                 \n"
   ]
  },
  {
   "cell_type": "code",
   "execution_count": null,
   "id": "7ce8137b-0a42-4fc1-87f1-27a3a5b8bef0",
   "metadata": {},
   "outputs": [],
   "source": []
  }
 ],
 "metadata": {
  "kernelspec": {
   "display_name": "Python 3 (ipykernel)",
   "language": "python",
   "name": "python3"
  },
  "language_info": {
   "codemirror_mode": {
    "name": "ipython",
    "version": 3
   },
   "file_extension": ".py",
   "mimetype": "text/x-python",
   "name": "python",
   "nbconvert_exporter": "python",
   "pygments_lexer": "ipython3",
   "version": "3.12.7"
  }
 },
 "nbformat": 4,
 "nbformat_minor": 5
}
