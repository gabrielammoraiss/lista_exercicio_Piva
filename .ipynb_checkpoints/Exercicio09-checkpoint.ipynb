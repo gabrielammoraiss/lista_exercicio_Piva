{
 "cells": [
  {
   "cell_type": "markdown",
   "id": "25ad42c7-d11a-425d-87b3-127237d2ebf8",
   "metadata": {},
   "source": [
    "Faça um programa para o cálculo de uma folha de pagamento, sabendo que os descontos são do Imposto de Renda, que depende do salário bruto (conforme tabela abaixo) e 3% para o Sindicato e que o FGTS corresponde a 11% do Salário Bruto, mas não é descontado (é a empresa que deposita). O Salário Líquido corresponde ao Salário Bruto menos os descontos. O programa deverá pedir ao usuário o valor da sua hora e a quantidade de horas trabalhadas no mês.\n",
    "a.\n",
    "Desconto do IR:\n",
    "b.\n",
    "Salário Bruto até 900 (inclusive) - isento\n",
    "c.\n",
    "Salário Bruto até 1500 (inclusive) - desconto de 5%\n",
    "d.\n",
    "Salário Bruto até 2500 (inclusive) - desconto de 10%\n",
    "e.\n",
    "Salário Bruto acima de 2500 - desconto de 20% Imprima na tela as informações, dispostas conforme o exemplo abaixo. No exemplo o valor da hora é 5 e a quantidade de hora é 220.\n",
    "f. Salário Bruto: (5 * 220) : R$ 1100,00\n",
    "g. (-) IR (5%) : R$ 55,00\n",
    "h. (-) INSS ( 10%) : R$ 110,00\n",
    "i. FGTS (11%) : R$ 121,00\n",
    "j. Total de descontos : R$ 165,00 Salário Liquido : R$ 935,00"
   ]
  },
  {
   "cell_type": "code",
   "execution_count": 41,
   "id": "531fc3b4-1cb1-4c4f-8c1e-47354adf1bb8",
   "metadata": {},
   "outputs": [
    {
     "name": "stdin",
     "output_type": "stream",
     "text": [
      "Digite a carga horaria trabalhada no mês:  20\n",
      "Digite o seu salário/hora:  50\n"
     ]
    },
    {
     "name": "stdout",
     "output_type": "stream",
     "text": [
      "\n",
      "Salario Bruto:       (20.0 x 50.00)      R$ 1000.00\n",
      "IR:                  (-)5%               R$ 50.00\n",
      "Sindicato            (-)3%               R$ 30.00\n",
      "FGTS                 11%                 R$ 110.00\n",
      "Total de desconto                        R$ 35.00\n",
      "Salário Liquido                          R$ 965.00\n"
     ]
    }
   ],
   "source": [
    "hora = float (input(\"Digite a carga horaria trabalhada no mês: \"))\n",
    "salarioh = float (input(\"Digite o seu salário/hora: \"))\n",
    "salariob = hora*salarioh\n",
    "sind = (salariob*3)/100\n",
    "fgtsr = (salariob*11)/100\n",
    "\n",
    "if salariob <= 900:\n",
    "    ir = 0\n",
    "elif salariob <=1500:\n",
    "    ir = 5\n",
    "elif salariob <=2500:\n",
    "    ir = 10\n",
    "else:\n",
    "    ir = 20\n",
    "\n",
    "valorir = (salariob*ir)/100\n",
    "print (f\"\"\"\n",
    "Salario Bruto:       ({hora} x {salarioh:.2f})      R$ {salariob:.2f}\n",
    "IR:                  (-){ir}%               R$ {valorir:.2f}\n",
    "Sindicato            (-)3%               R$ {sind:.2f}\n",
    "FGTS                 11%                 R$ {fgts:.2f}\n",
    "Total de desconto                        R$ {ir+sind:.2f}\n",
    "Salário Liquido                          R$ {salariob - ir - sind:.2f}\"\"\")\n",
    "\n"
   ]
  },
  {
   "cell_type": "code",
   "execution_count": null,
   "id": "d7ad41ef-fbf6-4764-a9d1-aeae43f1735c",
   "metadata": {},
   "outputs": [],
   "source": []
  }
 ],
 "metadata": {
  "kernelspec": {
   "display_name": "Python [conda env:base] *",
   "language": "python",
   "name": "conda-base-py"
  },
  "language_info": {
   "codemirror_mode": {
    "name": "ipython",
    "version": 3
   },
   "file_extension": ".py",
   "mimetype": "text/x-python",
   "name": "python",
   "nbconvert_exporter": "python",
   "pygments_lexer": "ipython3",
   "version": "3.12.7"
  }
 },
 "nbformat": 4,
 "nbformat_minor": 5
}
