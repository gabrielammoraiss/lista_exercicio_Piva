{
 "cells": [
  {
   "cell_type": "markdown",
   "id": "267e0c97-6186-4ddc-a362-fdf081b9585b",
   "metadata": {},
   "source": [
    "O Departamento Estadual de Meteorologia lhe contratou para desenvolver um programa que leia as um conjunto indeterminado de \n",
    "temperaturas, e informe ao final a menor e a maior temperaturas informadas, bem como a média das temperaturas."
   ]
  },
  {
   "cell_type": "code",
   "execution_count": 9,
   "id": "424b7b42-7ecf-4e29-93b5-90762f8f7068",
   "metadata": {},
   "outputs": [
    {
     "name": "stdin",
     "output_type": "stream",
     "text": [
      " Digite a quantidade de temperatura que deseja analisar:  3\n",
      "Digite a 1ª temperatura 32\n",
      "Digite a 2ª temperatura 25\n",
      "Digite a 3ª temperatura 36\n"
     ]
    },
    {
     "name": "stdout",
     "output_type": "stream",
     "text": [
      "\n",
      "A média da temperatura é: 31.0\n",
      "A maior temperatura é: 36.0\n",
      "A menor temperatura é: 25.0\n"
     ]
    }
   ],
   "source": [
    "quantidade = 0\n",
    "maior = 0\n",
    "menor = 2000000\n",
    "soma = 0\n",
    "\n",
    "while quantidade <= 0:\n",
    "    quantidade = int (input(\" Digite a quantidade de temperatura que deseja analisar: \"))\n",
    "for i in range (quantidade):\n",
    "    temperatura = float (input (f\"Digite a {i+1}ª temperatura\"))\n",
    "    if temperatura >= maior:\n",
    "        maior = temperatura\n",
    "    if temperatura <= menor:\n",
    "        menor = temperatura\n",
    "    soma += temperatura\n",
    "print (f\"\"\"\n",
    "A média da temperatura é: {soma/quantidade}\n",
    "A maior temperatura é: {maior}\n",
    "A menor temperatura é: {menor}\"\"\")\n",
    "\n",
    "\n",
    "        "
   ]
  },
  {
   "cell_type": "code",
   "execution_count": null,
   "id": "7c81bcc6-b597-4ddf-825c-4a8d0958ffa6",
   "metadata": {},
   "outputs": [],
   "source": []
  }
 ],
 "metadata": {
  "kernelspec": {
   "display_name": "Python 3 (ipykernel)",
   "language": "python",
   "name": "python3"
  },
  "language_info": {
   "codemirror_mode": {
    "name": "ipython",
    "version": 3
   },
   "file_extension": ".py",
   "mimetype": "text/x-python",
   "name": "python",
   "nbconvert_exporter": "python",
   "pygments_lexer": "ipython3",
   "version": "3.12.7"
  }
 },
 "nbformat": 4,
 "nbformat_minor": 5
}
