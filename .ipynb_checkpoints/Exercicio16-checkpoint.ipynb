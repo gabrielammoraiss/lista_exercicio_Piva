{
 "cells": [
  {
   "cell_type": "markdown",
   "id": "b32c7fb6-22b4-4760-9948-1ecc133b64c7",
   "metadata": {},
   "source": [
    "Desenvolva um gerador de tabuada, capaz de gerar a tabuada de qualquer número inteiro entre 1 a 10. O usuário deve \n",
    "informar de qual numero ele deseja ver a tabuada. A saída deve ser conforme o exemplo abaixo: \n",
    "a. Tabuada de 5: \n",
    "b. 5 X 1 = 5 \n",
    "c. 5 X 2 = 10 \n",
    "d. ... \n",
    "e. 5 X 10 = 50"
   ]
  },
  {
   "cell_type": "code",
   "execution_count": 6,
   "id": "c11fc964-2b55-4e1e-b869-0ba82fd376a9",
   "metadata": {},
   "outputs": [
    {
     "name": "stdin",
     "output_type": "stream",
     "text": [
      "Digite um número inteiro positivo:  8\n"
     ]
    },
    {
     "name": "stdout",
     "output_type": "stream",
     "text": [
      "8 x 1 = 8\n",
      "8 x 2 = 16\n",
      "8 x 3 = 24\n",
      "8 x 4 = 32\n",
      "8 x 5 = 40\n",
      "8 x 6 = 48\n",
      "8 x 7 = 56\n",
      "8 x 8 = 64\n",
      "8 x 9 = 72\n",
      "8 x 10 = 80\n"
     ]
    }
   ],
   "source": [
    "numero = int (input (\"Digite um número inteiro positivo: \"))\n",
    "for i in range (1,11):\n",
    "    print (f\"{numero} x {i} = {numero*i}\")\n",
    "    \n",
    "              "
   ]
  },
  {
   "cell_type": "code",
   "execution_count": null,
   "id": "56ef735f-af86-42e6-864f-aa97e6e1dfd9",
   "metadata": {},
   "outputs": [],
   "source": []
  }
 ],
 "metadata": {
  "kernelspec": {
   "display_name": "Python 3 (ipykernel)",
   "language": "python",
   "name": "python3"
  },
  "language_info": {
   "codemirror_mode": {
    "name": "ipython",
    "version": 3
   },
   "file_extension": ".py",
   "mimetype": "text/x-python",
   "name": "python",
   "nbconvert_exporter": "python",
   "pygments_lexer": "ipython3",
   "version": "3.12.7"
  }
 },
 "nbformat": 4,
 "nbformat_minor": 5
}
